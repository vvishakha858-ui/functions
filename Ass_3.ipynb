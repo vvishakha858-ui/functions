{
  "nbformat": 4,
  "nbformat_minor": 0,
  "metadata": {
    "colab": {
      "provenance": []
    },
    "kernelspec": {
      "name": "python3",
      "display_name": "Python 3"
    },
    "language_info": {
      "name": "python"
    }
  },
  "cells": [
    {
      "cell_type": "markdown",
      "source": [
        "FUNCTIONS"
      ],
      "metadata": {
        "id": "JOxzanmoYb1i"
      }
    },
    {
      "cell_type": "markdown",
      "source": [
        "1-. What is the difference between a function and a method in Python?\n",
        "\n",
        "  - A function is an independent block of code , while a mothed is a function defined inside a class and used through an object.\n",
        "\n",
        "  Diiference:\n",
        "   \n",
        "\n",
        "*   Function is called directly (add(2,3)) , Method is called using an object(obj.method()).\n",
        "*   Function does not need self , Method requires self as the first parameter.\n",
        "\n",
        "\n",
        "*   Function is standalone and not tied to any onject, Method belongs to a class/ object.\n",
        "\n",
        "*   Only normal functions exist , Methods can be instance methods, class method,or static methods.\n",
        "\n",
        "\n",
        "* Function lives in the global or local scope , Method lives in the class's namespace.\n",
        "\n",
        "\n",
        "  Examples:\n",
        "\n",
        "  ->function example:\n",
        "\n",
        "   def add(a,b):\n",
        "       return a+b\n",
        "   print(add(2,3))    #output 5\n",
        "\n",
        "\n",
        "  -> method example:\n",
        "\n",
        "   class calculator:\n",
        "       def add(self , a ,b)\n",
        "       return a+b\n",
        "\n",
        "  calc = calculator()\n",
        "  print(calc.add(2,3))     #output 5       \n",
        "\n",
        "\n",
        "\n",
        "\n",
        "\n",
        "\n"
      ],
      "metadata": {
        "id": "nP74653BYikZ"
      }
    },
    {
      "cell_type": "markdown",
      "source": [
        "2- Explain the concept of function arguments and parameters in Python.\n",
        "\n",
        "   - Parameters are the variables that are defined inside the function definition. They act as placeholders for the values that will be passed.\n",
        "\n",
        "   Example:\n",
        "\n",
        "   def greet(name):       \n",
        "      print(\"Hello\" , name)\n",
        "\n",
        "      #\"name\" is a parameter\n",
        "\n",
        "\n",
        "  - Arguments are the actual values we pass to the function when calling it.\n",
        "\n",
        "  Example:\n",
        "\n",
        "  greet(\"vishakha\")\n",
        "\n",
        "  #\"vishakha\" is an argument\n",
        "\n",
        "\n",
        "  Python supports several types of arguments:\n",
        "\n",
        "  \n",
        "\n",
        "  1- Positional Arguments - values are passed in the same order as parameters.\n",
        "     \n",
        "  Example:\n",
        "\n",
        "  def add(a, b):\n",
        "    return a + b\n",
        "  print(add(2,3))   #a=2 , b=3     \n",
        "\n",
        "\n",
        "   2- Keyword Argument - Values are passed with parameter names.\n",
        "\n",
        "   Example:\n",
        "\n",
        "   print(add(b=3 , a=2))   #order doesn\"t matter\n",
        "\n",
        "\n",
        "   3- Default Argument - If no value is given , default is used.\n",
        "\n",
        "   Example:\n",
        "\n",
        "   def greet(name=\"Guest\"):\n",
        "    print(\"Hello,\", name)\n",
        "\n",
        "  greet()          # Uses default greet(\"Vishakha\")\n",
        "  Output:\n",
        "\n",
        " Hello, Guest\n",
        " Hello, Vishakha\n",
        "\n",
        "\n",
        "   4- Variable-length Arguments (*args) → For multiple values.\n",
        "\n",
        "def show_numbers(*nums):\n",
        "    for n in nums:\n",
        "        print(n)\n",
        "\n",
        "show_numbers(1, 2, 3, 4)\n",
        "\n",
        "Output:\n",
        "\n",
        "1\n",
        "2\n",
        "3\n",
        "4\n",
        "\n",
        "\n",
        "  5-Keyword Variable-length Arguments (**kwargs) → For multiple key-value pairs.\n",
        "\n",
        "def show_info(**details):\n",
        "    for key, value in details.items():\n",
        "        print(key, \":\", value)\n",
        "\n",
        "show_info(name=\"Vishakha\", age=21, city=\"Delhi\")\n",
        "\n",
        "Output:\n",
        "\n",
        "name : Vishakha\n",
        "age : 21\n",
        "city : Delhi\n",
        "\n"
      ],
      "metadata": {
        "id": "mpb9nE9QeVlc"
      }
    },
    {
      "cell_type": "markdown",
      "source": [
        "3-. What are the different ways to define and call a function in Python?\n",
        "\n",
        "  - A function in python is a block of reusable code that performs a specific task.\n",
        "\n",
        "  In Python, functions can be defined and called in several ways:\n",
        "\n",
        "\n",
        "\n",
        "1. Standard (Normal) Function → Defined using def.\n",
        "\n",
        "\n",
        "\n",
        "def greet(name):\n",
        "    print(\"Hello,\", name)\n",
        "\n",
        "greet(\"Vishakha\")\n",
        "\n",
        "\n",
        "\n",
        "2. Function with Parameters → Accepts values (arguments).\n",
        "\n",
        "\n",
        "\n",
        "def add(a, b):\n",
        "    return a + b\n",
        "\n",
        "print(add(2, 3))\n",
        "\n",
        "\n",
        "\n",
        "3. Function with Return Value → Sends a result back using return.\n",
        "\n",
        "\n",
        "\n",
        "def square(x):\n",
        "    return x * x\n",
        "\n",
        "print(square(4))\n",
        "\n",
        "\n",
        "\n",
        "4. Function with Default Arguments → Parameters have default values.\n",
        "\n",
        "\n",
        "def greet(name=\"Guest\"):\n",
        "    print(\"Hello,\", name)\n",
        "\n",
        "greet()             # uses default\n",
        "greet(\"Vishakha\")   # overrides default\n",
        "\n",
        "\n",
        "\n",
        "5. Variable-length Function → Can take multiple values.\n",
        "\n",
        "\n",
        "def show_numbers(*nums):\n",
        "    print(nums)\n",
        "\n",
        "show_numbers(1, 2, 3)\n",
        "\n",
        "\n",
        "6. Lambda Function (Anonymous) → Short one-line function.\n",
        "\n",
        "cube = lambda n: n ** 3\n",
        "print(cube(3))   # Output: 27\n",
        "\n",
        "\n",
        "7. Nested Function → A function inside another function.\n",
        "\n",
        "\n",
        "\n",
        "def outer():\n",
        "    def inner():\n",
        "        return \"Hello from inner function\"\n",
        "    return inner()"
      ],
      "metadata": {
        "id": "gtzmb-ji3okN"
      }
    },
    {
      "cell_type": "markdown",
      "source": [
        "4- What is the purpose of the `return` statement in a Python function?\n",
        "\n",
        "  The return statement is used to send the output of a function back to the caller. it allows the function to provide a result that can be stored in avariable or used in further calculation. without return , the function gives none by default.\n",
        "\n",
        "  Example:\n",
        "\n",
        "  def square(x):\n",
        "      return x*x\n",
        "\n",
        "  print(square(5))      #output 25  "
      ],
      "metadata": {
        "id": "8OMRizhZ5t2q"
      }
    },
    {
      "cell_type": "markdown",
      "source": [
        "5-. What are iterators in Python and how do they differ from iterables?\n",
        "\n",
        "An Iterator in Python is an object that allows you to access elements of a collection (like list, tuple, string) one at a time, without needing to know how the collection is structured.\n",
        "\n",
        "An Iterator implements two methods:\n",
        "\n",
        "_iter_() → returns the iterator object itself\n",
        "\n",
        "_next_() → returns the next element, and raises StopIteration when no items are left\n",
        "\n",
        "\n",
        "\n",
        "\n",
        " Example:\n",
        "\n",
        "nums = [10, 20, 30]    # a list (iterable)\n",
        "\n",
        "it = iter(nums)        # create an iterator\n",
        "\n",
        "print(next(it))  # 10\n",
        "print(next(it))  # 20\n",
        "print(next(it))  # 30\n",
        "\n",
        "Differences between iterable and iterator:\n",
        "\n",
        "1- Definition:-\tAn object that can return elements one by one.\tAn object that produces elements one at a time using next().\n",
        "\n",
        "2-Examples:-\tList, Tuple, Set, String, Dictionary.\tObject created using iter() function.\n",
        "\n",
        "3-Method:-\tHas _iter() method.\tHas both __iter() and __next_() methods.\n",
        "\n",
        "4-Position:-\tDoes not remember current position.\tRemembers current position of iteration.\n",
        "\n",
        "5-Usage:-\tCan be looped directly using for loop.\tUsed with next() function to fetch elements.\n",
        "\n"
      ],
      "metadata": {
        "id": "ZoKULHkR9F88"
      }
    },
    {
      "cell_type": "markdown",
      "source": [
        "6- Explain the concept of generators in Python and how they are defined.\n",
        "\n",
        "Generator in Python:\n",
        "\n",
        "- A Generator is a special type of iterator in Python.\n",
        "\n",
        "- It is defined like a normal function but uses the \"yield\" keyword instead of return.\n",
        "\n",
        "- Generators produce values one at a time and pause after each yield.\n",
        "\n",
        "- They resume from the same state when called again.\n",
        "\n",
        "- Generators are memory-efficient since they don’t store all items in memory.\n",
        "\n",
        "- They are useful for handling large datasets or infinite sequences.\n",
        "\n",
        "- Can be created using generator functions or generator expressions.\n",
        "\n",
        "\n",
        "Example:\n",
        "\n",
        "def simple_gen():\n",
        "    yield \"Hello\"\n",
        "    yield \"World\"\n",
        "\n",
        "for word in simple_gen():\n",
        "    print(word)\n",
        "\n",
        "Output:\n",
        "\n",
        "Hello  \n",
        "World"
      ],
      "metadata": {
        "id": "WvgR_fpvvg10"
      }
    },
    {
      "cell_type": "markdown",
      "source": [
        "7- What are the advantages of using generators over regular functions?\n",
        "\n",
        "Advantages of Generators:-\n",
        "\n",
        "1. Memory Efficient:\n",
        "\n",
        "- Generators produce one value at a time instead of storing the whole result in memory.\n",
        "\n",
        "- Useful for large datasets or infinite sequences.\n",
        "\n",
        "\n",
        "\n",
        "2. Lazy Evaluation:\n",
        "\n",
        "- Values are generated only when needed (on demand), which saves resources.\n",
        "\n",
        "\n",
        "\n",
        "3. Better Performance:\n",
        "\n",
        "- Since values are generated one by one, execution is faster for big data compared to building large lists.\n",
        "\n",
        "\n",
        "\n",
        "4. Readable Code\n",
        "\n",
        "- Generators simplify writing iterators with less code using the yield keyword.\n",
        "\n",
        "\n",
        "\n",
        "5. Infinite Sequences\n",
        "\n",
        "- Generators can model endless streams like sensor data, Fibonacci series, or even logs.\n",
        "\n",
        "\n",
        " Example:\n",
        "\n",
        "def even_numbers():\n",
        "    n = 0\n",
        "    while True:\n",
        "        yield n\n",
        "        n += 2\n",
        "\n",
        "gen = even_numbers()\n",
        "print(next(gen))  # 0\n",
        "print(next(gen))  # 2\n",
        "print(next(gen))  # 4"
      ],
      "metadata": {
        "id": "h47reQ8wEFKr"
      }
    },
    {
      "cell_type": "markdown",
      "source": [
        "8-What is a lambda function in Python and when is it typically used?\n",
        "\n",
        " - A Lambda function is a small, anonymous function defined using the keyword lambda instead of def.\n",
        "\n",
        "- It can take multiple arguments.\n",
        "\n",
        "- It must contain only one expression (no multiple statements).\n",
        "\n",
        "- The result of that expression is automatically returned.\n",
        "\n",
        "\n",
        " Syntax:-\n",
        "\n",
        "lambda arguments: expression\n",
        "\n",
        "\n",
        "\n",
        "Lambda functions are typically used when:\n",
        "\n",
        "1. You need a short, temporary function.\n",
        "\n",
        "\n",
        "2. You want to avoid writing a full def function.\n",
        "\n",
        "\n",
        "3. You are using higher-order functions like map(), filter(), and sorted().\n",
        "\n",
        "\n",
        "4. For inline operations where defining a named function would be overkill.\n",
        "\n",
        "Example:-\n",
        "\n",
        " square = lambda x: x*x\n",
        "print(square(5))   # Output: 25"
      ],
      "metadata": {
        "id": "CF8YUSBmFNtc"
      }
    },
    {
      "cell_type": "markdown",
      "source": [
        "9- Explain the purpose and usage of the `map()` function in Python.\n",
        "\n",
        "- Purpose of map():-\n",
        "\n",
        "The map() function is used to apply a given function to every element of one or more iterables (like lists, tuples, sets).\n",
        "\n",
        "- Helps transform data without writing loops.\n",
        "\n",
        "- Makes the code shorter, cleaner, and more functional.\n",
        "\n",
        "- Works well with built-in functions or lambda expressions.\n",
        "\n",
        "- Returns a map object (iterator), which can be converted to list, tuple, or set.\n",
        "\n",
        " Syntax:\n",
        "\n",
        "  map(function, iterable)\n",
        "\n",
        "\n",
        "\n",
        "\n",
        " - Uses of map()\n",
        "\n",
        "1. Apply a function to all elements in a list/tuple.\n",
        "\n",
        "\n",
        "2. Perform element-wise operations on multiple iterables.\n",
        "\n",
        "\n",
        "3. Often used in data cleaning and data transformation.\n",
        "\n",
        "\n",
        "4. Saves time and effort compared to for loops.\n",
        "\n",
        "\n",
        "5. Works great in functional programming style with lambda, filter(), and reduce().\n",
        "\n",
        "Example:\n",
        "\n",
        "nums = [2, 4, 6, 8]\n",
        "result = map(lambda x: x + 5, nums)\n",
        "print(list(result))   # Output: [7, 9, 11, 13]"
      ],
      "metadata": {
        "id": "AI6f_Fk1IZmC"
      }
    },
    {
      "cell_type": "markdown",
      "source": [
        "10- What is the difference between `map()`, `reduce()`, and `filter()` functions in Python?\n",
        "\n",
        "\n",
        " 1. map() Function\n",
        "\n",
        "- Purpose: Applies a function to each element of an iterable.\n",
        "\n",
        "- Return Type: map object (iterator).\n",
        "\n",
        "- Use Case: Data transformation.\n",
        "\n",
        "\n",
        " Example:\n",
        "\n",
        "nums = [1, 2, 3, 4]\n",
        "squares = map(lambda x: x*x, nums)\n",
        "print(list(squares))   # [1, 4, 9, 16]\n",
        "\n",
        "\n",
        "\n",
        " 2. filter() Function\n",
        "\n",
        "- Purpose: Filters elements of an iterable based on a condition (True/False).\n",
        "\n",
        "- Return Type: filter object (iterator).\n",
        "\n",
        "- Use Case: Data selection.\n",
        "\n",
        "\n",
        " Example:\n",
        "\n",
        "nums = [1, 2, 3, 4, 5, 6]\n",
        "evens = filter(lambda x: x % 2 == 0, nums)\n",
        "print(list(evens))   # [2, 4, 6]\n",
        "\n",
        "\n",
        "\n",
        "\n",
        " 3. reduce() Function\n",
        "\n",
        "- Purpose: Performs a rolling computation (cumulative) on the elements of an iterable.\n",
        "\n",
        "- Return Type: Single value.\n",
        "\n",
        "- Use Case: Data aggregation.\n",
        "\n",
        "\n",
        " reduce() is available in the functools module.\n",
        "\n",
        " Example:\n",
        "\n",
        "from functools import reduce\n",
        "\n",
        "nums = [1, 2, 3, 4]\n",
        "product = reduce(lambda x, y: x * y, nums)\n",
        "print(product)   # 24  (1*2*3*4)\n",
        "\n",
        "\n",
        "\n",
        "\n",
        " - Comparison Table:-\n",
        "\n",
        "Feature\tmap()\tfilter()\treduce()\n",
        "\n",
        "1- Purpose\tTransform each element.\tSelect elements based on condition.\tAggregate values into one result.\n",
        "\n",
        "2- Return Type\tIterator (map object).\tIterator (filter object).\tSingle value.\n",
        "\n",
        "3-Input\tFunction + iterable(s).\tFunction (returns bool) + iterable.\tFunction + iterable.\n",
        "\n",
        "4- Output Example\t[1, 4, 9, 16] (squares).\t[2, 4, 6] (even numbers).\t24 (product of all numbers).\n",
        "\n",
        "5- Use Case\tData transformation.\tData filtering.\tData aggregation (sum, product, etc.).\n"
      ],
      "metadata": {
        "id": "13_FmDJKKcwc"
      }
    },
    {
      "cell_type": "markdown",
      "source": [
        "11-  Using pen & Paper write the internal mechanism for sum operation using  reduce function on this given  list:[47,11,42,13].\n",
        "\n",
        "\n",
        "  -Given List : [47,11,42,13]\n",
        "\n",
        "  Internal working of reduce (lambda x,y : x+y, [47,11,42,13])\n",
        "\n",
        "  step 1 : take first two number -> 47+11 = 58\n",
        "  step 2 : take result & next number -> 58 + 42 = 100\n",
        "  step 3 : take result & next number -> 100+13 = 113\n",
        "\n",
        "  final result = 113\n",
        "\n",
        "  so, reduce processes pair by pair until one final result remains."
      ],
      "metadata": {
        "id": "sp4pcSSFliWa"
      }
    },
    {
      "cell_type": "markdown",
      "source": [
        "# Practical Questions:"
      ],
      "metadata": {
        "id": "MFe7mQSrlv3D"
      }
    },
    {
      "cell_type": "code",
      "source": [
        "#1- . Write a Python function that takes a list of numbers as input and returns the sum of all even numbers in the list.\n",
        "\n",
        "def sum_of_evens(number):\n",
        "  even_sum = sum(num for num in number if num %2 ==0)\n",
        "  return even_sum\n",
        "\n",
        "nums = [28,34,67,85,43,98,64,34,93]\n",
        "print(\"Sum of even number:  \", sum_of_evens(nums))\n"
      ],
      "metadata": {
        "colab": {
          "base_uri": "https://localhost:8080/"
        },
        "id": "WJE8GFtTmpbH",
        "outputId": "f05761d2-7809-499f-e0e4-96fa187ccbcd"
      },
      "execution_count": null,
      "outputs": [
        {
          "output_type": "stream",
          "name": "stdout",
          "text": [
            "Sum of even number:   258\n"
          ]
        }
      ]
    },
    {
      "cell_type": "code",
      "source": [
        "#2-  Create a Python function that accepts a string and returns the reverse of that string.\n",
        "\n",
        "def reverse_string(text):\n",
        "  return text[::-1]\n",
        "\n",
        "print(\"Reversed: \", reverse_string(\"Data Science\"))"
      ],
      "metadata": {
        "colab": {
          "base_uri": "https://localhost:8080/"
        },
        "id": "1zOR2_p4oA8k",
        "outputId": "279db461-89b4-4551-d06a-6684beadf633"
      },
      "execution_count": null,
      "outputs": [
        {
          "output_type": "stream",
          "name": "stdout",
          "text": [
            "Reversed:  ecneicS ataD\n"
          ]
        }
      ]
    },
    {
      "cell_type": "code",
      "source": [
        "#3- Implement a Python function that takes a list of integers and returns a new list containing the squares of each number.\n",
        "\n",
        "\n",
        "def square_list(numbers):\n",
        "    return [num ** 2 for num in numbers]\n",
        "\n",
        "nums = [10,20,30,40,50,60,65]\n",
        "print(\"Square list: \", square_list(nums))"
      ],
      "metadata": {
        "id": "aIG3KYNoppub",
        "colab": {
          "base_uri": "https://localhost:8080/"
        },
        "outputId": "39a1b5a6-b31d-4f33-d953-8a221f02f668"
      },
      "execution_count": null,
      "outputs": [
        {
          "output_type": "stream",
          "name": "stdout",
          "text": [
            "Square list:  [100, 400, 900, 1600, 2500, 3600, 4225]\n"
          ]
        }
      ]
    },
    {
      "cell_type": "code",
      "source": [
        "#4-  Write a Python function that checks if a given number is prime or not from 1 to 200.\n",
        "\n",
        "\n",
        "def is_prime(num):\n",
        "    if num < 2:\n",
        "        return False\n",
        "    for i in range(2, num):\n",
        "        if num % i == 0:\n",
        "            return False\n",
        "    return True\n",
        "\n",
        "\n",
        "def prime_number_upto_200():\n",
        "    primes = []\n",
        "    for i in range(1, 201):\n",
        "        if is_prime(i):\n",
        "            primes.append(i)\n",
        "    return primes\n",
        "\n",
        "\n",
        "print(prime_number_upto_200())"
      ],
      "metadata": {
        "colab": {
          "base_uri": "https://localhost:8080/"
        },
        "id": "dwxuLxDodgRx",
        "outputId": "f7708f74-2a44-45e1-8d84-89a6970b4f19"
      },
      "execution_count": null,
      "outputs": [
        {
          "output_type": "stream",
          "name": "stdout",
          "text": [
            "[2, 3, 5, 7, 11, 13, 17, 19, 23, 29, 31, 37, 41, 43, 47, 53, 59, 61, 67, 71, 73, 79, 83, 89, 97, 101, 103, 107, 109, 113, 127, 131, 137, 139, 149, 151, 157, 163, 167, 173, 179, 181, 191, 193, 197, 199]\n"
          ]
        }
      ]
    },
    {
      "cell_type": "code",
      "source": [
        "#5- . Create an iterator class in Python that generates the Fibonacci sequence up to a specified number of terms.\n",
        "\n",
        "\n",
        "class FibonacciIterator:\n",
        "\n",
        "      def __init__(self, n_terms):\n",
        "          self.n_terms = n_terms\n",
        "          self.count = 0\n",
        "          self.a , self.b = 0,1\n",
        "\n",
        "\n",
        "\n",
        "      def __iter__(self):\n",
        "        return self\n",
        "\n",
        "      def __next__(self):\n",
        "        if self.count < self.n_terms:\n",
        "          result = self.a\n",
        "          self.a , self.b = self.b , self.a +self.b\n",
        "          self.count +=1\n",
        "          return result\n",
        "        else:\n",
        "          raise StopIteration\n",
        "\n",
        "\n",
        "fib = FibonacciIterator(10)\n",
        "\n",
        "for num in fib:\n",
        "  print(num , end=\" \")\n",
        "\n",
        "\n",
        "\n",
        "\n"
      ],
      "metadata": {
        "colab": {
          "base_uri": "https://localhost:8080/"
        },
        "id": "75C7sVdPguWo",
        "outputId": "93ffbbf4-a7fc-43dc-be33-9b8ffc71cfad"
      },
      "execution_count": null,
      "outputs": [
        {
          "output_type": "stream",
          "name": "stdout",
          "text": [
            "0 1 1 2 3 5 8 13 21 34 "
          ]
        }
      ]
    },
    {
      "cell_type": "code",
      "source": [
        "#6-  Write a generator function in Python that yields the powers of 2 up to a given exponent.\n",
        "\n",
        "\n",
        "def power_of_two(limit):\n",
        "  exponent = 0\n",
        "  while exponent <= limit:\n",
        "    yield 2 ** exponent\n",
        "    exponent +=1\n",
        "\n",
        "for value in power_of_two(10):\n",
        "  print(value , end=\" \")"
      ],
      "metadata": {
        "colab": {
          "base_uri": "https://localhost:8080/"
        },
        "id": "dc2Mj1-hl8E_",
        "outputId": "9a9a9169-8abd-4f13-e0d2-03f7cdc03280"
      },
      "execution_count": null,
      "outputs": [
        {
          "output_type": "stream",
          "name": "stdout",
          "text": [
            "1 2 4 8 16 32 64 128 256 512 1024 "
          ]
        }
      ]
    },
    {
      "cell_type": "code",
      "source": [
        "#7-  Implement a generator function that reads a file line by line and yields each line as a string.\n",
        "\n",
        "with open(\"sample.text\", \"w\") as f:\n",
        "  f.write(\"Hello\\n\")\n",
        "  f.write(\"How are you\\n\")\n",
        "  f.write(\"I am fine\\n\")\n",
        "\n",
        "\n",
        "\n",
        "def read_file_line_by_line(filename):\n",
        "  with open(filename, 'r') as file:\n",
        "    for line in file:\n",
        "      yield line.strip()\n",
        "\n",
        "for line in read_file_line_by_line(\"sample.text\"):\n",
        "        print(line)\n"
      ],
      "metadata": {
        "colab": {
          "base_uri": "https://localhost:8080/"
        },
        "id": "5bJJ0sRxprbI",
        "outputId": "0f0b2b92-d4c8-483c-b381-70f2ca5bb648"
      },
      "execution_count": null,
      "outputs": [
        {
          "output_type": "stream",
          "name": "stdout",
          "text": [
            "Hello\n",
            "How are you\n",
            "I am fine\n"
          ]
        }
      ]
    },
    {
      "cell_type": "code",
      "source": [
        "#8-  Use a lambda function in Python to sort a list of tuples based on the second element of each tuple.\n",
        "\n",
        "\n",
        "data = [(2,3),(1,5),(3,1),(4,7),(5,6)]\n",
        "\n",
        "sorted_list = sorted(data, key=lambda x: x[1])\n",
        "print(sorted_list)"
      ],
      "metadata": {
        "id": "cKwLxQTNtjzB",
        "colab": {
          "base_uri": "https://localhost:8080/"
        },
        "outputId": "5252abb9-bb01-437a-d6d5-3c5ee6399353"
      },
      "execution_count": 1,
      "outputs": [
        {
          "output_type": "stream",
          "name": "stdout",
          "text": [
            "[(3, 1), (2, 3), (1, 5), (5, 6), (4, 7)]\n"
          ]
        }
      ]
    },
    {
      "cell_type": "code",
      "source": [
        "#9-  Write a Python program that uses `map()` to convert a list of temperatures from Celsius to Fahrenheit.\n",
        "\n",
        "celsius = [0,20,37,100 ,108]\n",
        "\n",
        "fahrenheit = list(map(lambda c: (c * 9/5)+ 32, celsius))\n",
        "\n",
        "print(\"Celsius: \", celsius)\n",
        "print(\"Fahrenheit: \", fahrenheit)"
      ],
      "metadata": {
        "colab": {
          "base_uri": "https://localhost:8080/"
        },
        "id": "tzQbUJCnoo6j",
        "outputId": "f841b294-6627-41c9-ba05-9a68e5f5356e"
      },
      "execution_count": 2,
      "outputs": [
        {
          "output_type": "stream",
          "name": "stdout",
          "text": [
            "Celsius:  [0, 20, 37, 100, 108]\n",
            "Fahrenheit:  [32.0, 68.0, 98.6, 212.0, 226.4]\n"
          ]
        }
      ]
    },
    {
      "cell_type": "code",
      "source": [
        "#10-  Create a Python program that uses `filter()` to remove all the vowels from a given string.\n",
        "\n",
        "text = \"Hello world, python is amazing !\"\n",
        "\n",
        "vowels = \"aeiou\"\n",
        "result = \"\".join(filter(lambda ch: ch not in vowels , text))\n",
        "\n",
        "print( \"Without vowels: \", result)\n"
      ],
      "metadata": {
        "colab": {
          "base_uri": "https://localhost:8080/"
        },
        "id": "3vOgCA9irWuP",
        "outputId": "35d2edcc-2982-4faa-b310-1cc3ac5ea71f"
      },
      "execution_count": 5,
      "outputs": [
        {
          "output_type": "stream",
          "name": "stdout",
          "text": [
            "Without vowels:  Hll wrld, pythn s mzng !\n"
          ]
        }
      ]
    },
    {
      "cell_type": "code",
      "source": [
        "#11- Imagine an accounting routine used in a book shop. It works on a list with sublists, which look like this.\n",
        "\n",
        "orders = [\n",
        "    [34587, \"Learning Python , Mark Lutz\", 4, 40.95],\n",
        "    [98762, \"Programming Python, Mark Lutz\", 5, 56.80],\n",
        "    [77226, \"Head First Python, Paul Barry\", 3, 32.95],\n",
        "    [88112, \"Einfuhrung in Python3 , Bernd Klein \", 3, 24.99]\n",
        "]\n",
        "\n",
        "\n",
        "result = list(map(lambda x : (x[0], x[2]* x[3] if x[2] * x[3] >= 100 else x[2] * x[3] +10) , orders))\n",
        "\n",
        "print(result)"
      ],
      "metadata": {
        "colab": {
          "base_uri": "https://localhost:8080/"
        },
        "id": "O6_lRO3rPwk6",
        "outputId": "dcbb1cc8-ab98-4704-bfb9-caba54f5cf1f"
      },
      "execution_count": 5,
      "outputs": [
        {
          "output_type": "stream",
          "name": "stdout",
          "text": [
            "[(34587, 163.8), (98762, 284.0), (77226, 108.85000000000001), (88112, 84.97)]\n"
          ]
        }
      ]
    }
  ]
}